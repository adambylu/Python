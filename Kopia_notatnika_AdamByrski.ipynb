{
  "nbformat": 4,
  "nbformat_minor": 0,
  "metadata": {
    "colab": {
      "name": "Kopia notatnika AdamByrski.ipynb",
      "provenance": [],
      "collapsed_sections": []
    },
    "kernelspec": {
      "name": "python3",
      "display_name": "Python 3"
    }
  },
  "cells": [
    {
      "cell_type": "code",
      "metadata": {
        "id": "p7BKWVdl2ykV"
      },
      "source": [
        "#Hasło składające się z 8-12 znaków (litery, cyfry i znaki interpunkcyjne)generowane przy pomocy funkcji \"secrets\"\n",
        "\n",
        "import secrets\n",
        "import string\n",
        "\n",
        "znaki = string.ascii_letters + string.digits + string.punctuation\n",
        "password = ''.join(secrets.choice(znaki) for i in range(randint(8, 12)))\n",
        "print(\"Nowe hasło: \"+password)\n",
        "\n"
      ],
      "execution_count": null,
      "outputs": []
    },
    {
      "cell_type": "code",
      "metadata": {
        "id": "fm8lAOvtRoK-"
      },
      "source": [
        "#Test1\n",
        "import string\n",
        "import random\n",
        "\n",
        "def pw_gen(size = 8, chars=string.ascii_letters + string.digits + string.punctuation):\n",
        "\treturn ''.join(random.choice(chars) for _ in range(size))\n",
        "\n",
        "print(pw_gen(int(input('Podaj długość hasła (liczba)'))))"
      ],
      "execution_count": null,
      "outputs": []
    },
    {
      "cell_type": "code",
      "metadata": {
        "id": "Fr9LpVX9XYhQ"
      },
      "source": [
        "#Test2\n",
        "import string\n",
        "from random import *\n",
        "characters = string.ascii_letters + string.punctuation  + string.digits\n",
        "password =  \"\".join(choice(characters) for x in range(randint(8, 12)))\n",
        "print (password)"
      ],
      "execution_count": null,
      "outputs": []
    }
  ]
}